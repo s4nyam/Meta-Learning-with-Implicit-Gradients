{
  "nbformat": 4,
  "nbformat_minor": 0,
  "metadata": {
    "colab": {
      "name": "Meta Learning with implicit gradients[author paper random dataset]",
      "provenance": []
    },
    "kernelspec": {
      "name": "python3",
      "display_name": "Python 3"
    },
    "language_info": {
      "name": "python"
    },
    "accelerator": "GPU"
  },
  "cells": [
    {
      "cell_type": "markdown",
      "metadata": {
        "id": "6F74pLM66dNt"
      },
      "source": [
        "## Gradient Checkpointing Model-Agnostic Meta-Learning\n",
        "\n",
        "We demonstrate how to use memory efficient MAML on CIFAR10.\n",
        "This notebook performs one forward and backward for MAML with a large number of iterations\n",
        "\n",
        "* Data: Random tensors (batch_size, 3, 224, 224)  \n",
        "* Model: ResNet18\n",
        "* Optimizer: SGD with 0.01 learning rate\n",
        "* Batch size: 16\n",
        "* MAML steps: 100 (works with >500 on 11GB GPU)\n",
        "* GPU: whatever colab has to spare, probably K80"
      ]
    },
    {
      "cell_type": "code",
      "metadata": {
        "pycharm": {
          "is_executing": true
        },
        "id": "alrX0irZ6dNv",
        "colab": {
          "base_uri": "https://localhost:8080/"
        },
        "outputId": "f0908587-e941-4797-b6bc-c36d6b43447d"
      },
      "source": [
        "%env CUDA_VISIBLE_DEVICES=0\n",
        "# colab dependencies\n",
        "!pip install torch==1.3.1 torchvision==0.4.2 torch_maml\n",
        "\n",
        "import numpy as np\n",
        "import matplotlib.pyplot as plt\n",
        "%matplotlib inline\n",
        "import torch, torch.nn as nn\n",
        "import torch.nn.functional as F\n",
        "import torchvision.models as models\n",
        "\n",
        "import torch_maml\n",
        "\n",
        "device = 'cuda' if torch.cuda.is_available() else 'cpu'\n",
        "\n",
        "# For reproducibility\n",
        "import random\n",
        "random.seed(42)\n",
        "np.random.seed(42)\n",
        "torch.manual_seed(42)\n",
        "\n",
        "torch.backends.cudnn.deterministic = True\n",
        "torch.backends.cudnn.benchmarks = False"
      ],
      "execution_count": 1,
      "outputs": [
        {
          "output_type": "stream",
          "name": "stdout",
          "text": [
            "env: CUDA_VISIBLE_DEVICES=0\n",
            "Collecting torch==1.3.1\n",
            "  Downloading torch-1.3.1-cp37-cp37m-manylinux1_x86_64.whl (734.6 MB)\n",
            "\u001b[K     |████████████████████████████████| 734.6 MB 15 kB/s \n",
            "\u001b[?25hCollecting torchvision==0.4.2\n",
            "  Downloading torchvision-0.4.2-cp37-cp37m-manylinux1_x86_64.whl (10.2 MB)\n",
            "\u001b[K     |████████████████████████████████| 10.2 MB 8.6 MB/s \n",
            "\u001b[?25hCollecting torch_maml\n",
            "  Downloading torch_maml-1.0.tar.gz (9.7 kB)\n",
            "Requirement already satisfied: numpy in /usr/local/lib/python3.7/dist-packages (from torch==1.3.1) (1.19.5)\n",
            "Requirement already satisfied: pillow>=4.1.1 in /usr/local/lib/python3.7/dist-packages (from torchvision==0.4.2) (7.1.2)\n",
            "Requirement already satisfied: six in /usr/local/lib/python3.7/dist-packages (from torchvision==0.4.2) (1.15.0)\n",
            "Building wheels for collected packages: torch-maml\n",
            "  Building wheel for torch-maml (setup.py) ... \u001b[?25l\u001b[?25hdone\n",
            "  Created wheel for torch-maml: filename=torch_maml-1.0-py3-none-any.whl size=9392 sha256=7d5f0dd144e89d9cad9ae7bb4f9138e80f9f981943001ed2a6a758ecaa5bb5b3\n",
            "  Stored in directory: /root/.cache/pip/wheels/6d/99/30/1894147ba887f41ae4b4d39ff75584b2c5fa016f35a22eeca8\n",
            "Successfully built torch-maml\n",
            "Installing collected packages: torch, torchvision, torch-maml\n",
            "  Attempting uninstall: torch\n",
            "    Found existing installation: torch 1.10.0+cu111\n",
            "    Uninstalling torch-1.10.0+cu111:\n",
            "      Successfully uninstalled torch-1.10.0+cu111\n",
            "  Attempting uninstall: torchvision\n",
            "    Found existing installation: torchvision 0.11.1+cu111\n",
            "    Uninstalling torchvision-0.11.1+cu111:\n",
            "      Successfully uninstalled torchvision-0.11.1+cu111\n",
            "\u001b[31mERROR: pip's dependency resolver does not currently take into account all the packages that are installed. This behaviour is the source of the following dependency conflicts.\n",
            "torchtext 0.11.0 requires torch==1.10.0, but you have torch 1.3.1 which is incompatible.\n",
            "torchaudio 0.10.0+cu111 requires torch==1.10.0, but you have torch 1.3.1 which is incompatible.\u001b[0m\n",
            "Successfully installed torch-1.3.1 torch-maml-1.0 torchvision-0.4.2\n"
          ]
        }
      ]
    },
    {
      "cell_type": "markdown",
      "metadata": {
        "id": "mx7mOCc76dNz"
      },
      "source": [
        "#### Define compute_loss function and create model"
      ]
    },
    {
      "cell_type": "code",
      "metadata": {
        "id": "EOvFGH9W6dN0"
      },
      "source": [
        "# Interface:\n",
        "# def compute_loss(model, data, **kwargs):\n",
        "#      <YOUR CODE HERE>  # ideally this should be stateless (does not change global variables)\n",
        "#      return loss\n",
        "\n",
        "# Our example\n",
        "def compute_loss(model, data, device='cuda'):\n",
        "    inputs, targets = data\n",
        "    preds = model(inputs.to(device=device))\n",
        "    loss = F.cross_entropy(preds, targets.to(device=device))\n",
        "    return loss"
      ],
      "execution_count": 2,
      "outputs": []
    },
    {
      "cell_type": "code",
      "metadata": {
        "id": "WwFkRoBP6dN2"
      },
      "source": [
        "# Model is a torch.nn.Module \n",
        "model = models.resnet18(num_classes=10).to(device)\n",
        "# Optimizer is a custom MAML optimizer, e.g. SGD\n",
        "optimizer = torch_maml.IngraphGradientDescent(learning_rate=0.01)"
      ],
      "execution_count": 3,
      "outputs": []
    },
    {
      "cell_type": "markdown",
      "metadata": {
        "id": "cti7QScs6dN4"
      },
      "source": [
        "#### Create NaiveMAML and GradientCheckpointMAML for comparison"
      ]
    },
    {
      "cell_type": "code",
      "metadata": {
        "id": "35otHsPc6dN4"
      },
      "source": [
        "efficient_maml = torch_maml.GradientCheckpointMAML(\n",
        "    model, compute_loss, optimizer=optimizer, checkpoint_steps=5)\n",
        "\n",
        "naive_maml = torch_maml.NaiveMAML(model, compute_loss, optimizer=optimizer)"
      ],
      "execution_count": 4,
      "outputs": []
    },
    {
      "cell_type": "markdown",
      "metadata": {
        "id": "nQxlYGRR6dN6"
      },
      "source": [
        "#### Sanity check: small number of steps\n",
        "\n",
        "Both naive and memory-efficient maml should produce the same output."
      ]
    },
    {
      "cell_type": "code",
      "metadata": {
        "id": "I9KfEdYL6dN6"
      },
      "source": [
        "# First, we set such max steps that fits memory for naive MAML to check the implementation\n",
        "maml_steps = 10\n",
        "\n",
        "# Clip meta-learning gradients by global norm to avoid explosion\n",
        "max_grad_grad_norm = 1e2"
      ],
      "execution_count": 5,
      "outputs": []
    },
    {
      "cell_type": "code",
      "metadata": {
        "id": "ZpSyUhuk6dN9"
      },
      "source": [
        "# Generate batch for demonstration. Note that we support using different batches for each MAML step (a-la SGD)\n",
        "x_batch, y_batch = torch.randn((16, 3, 224, 224)), torch.randint(0, 10, (16, ))\n",
        "inputs = [(x_batch, y_batch)] * maml_steps  # use the same batch for each step"
      ],
      "execution_count": 6,
      "outputs": []
    },
    {
      "cell_type": "code",
      "metadata": {
        "id": "T5hbRPIM6dN_",
        "colab": {
          "base_uri": "https://localhost:8080/"
        },
        "outputId": "b3cb5887-da7c-448e-dc75-0d4ac11cda70"
      },
      "source": [
        "updated_model, loss_history, _ = naive_maml(inputs, loss_kwargs={'device':device},\n",
        "                                            max_grad_grad_norm=max_grad_grad_norm)\n",
        "final_loss = compute_loss(updated_model, (x_batch, y_batch), device=device)\n",
        "final_loss.backward()\n",
        "grads_naive = [params.grad for params in model.parameters()]\n",
        "print(\"Loss naive: %.4f\" % final_loss.item())"
      ],
      "execution_count": 7,
      "outputs": [
        {
          "output_type": "stream",
          "name": "stdout",
          "text": [
            "Loss naive: 0.5537\n"
          ]
        }
      ]
    },
    {
      "cell_type": "code",
      "metadata": {
        "id": "j2G812Bs6dOA",
        "colab": {
          "base_uri": "https://localhost:8080/"
        },
        "outputId": "eb3cd747-570c-4a4a-c84f-55af05c533e0"
      },
      "source": [
        "updated_model, loss_history, _ = efficient_maml(inputs, loss_kwargs={'device':device},\n",
        "                                                max_grad_grad_norm=max_grad_grad_norm)\n",
        "final_loss = compute_loss(updated_model, (x_batch, y_batch), device=device)\n",
        "final_loss.backward()\n",
        "grads_efficient = [params.grad for params in model.parameters()]\n",
        "print(\"Loss memory-efficient: %.4f\" % final_loss.item())"
      ],
      "execution_count": 8,
      "outputs": [
        {
          "output_type": "stream",
          "name": "stdout",
          "text": [
            "Loss memory-efficient: 0.5537\n"
          ]
        }
      ]
    },
    {
      "cell_type": "code",
      "metadata": {
        "id": "lTnR_KFM6dOC",
        "colab": {
          "base_uri": "https://localhost:8080/"
        },
        "outputId": "7bfb7aa3-3f2f-4d30-acdd-e6c9b5a38363"
      },
      "source": [
        "for grad1, grad2 in zip(grads_naive, grads_efficient):\n",
        "    assert torch.allclose(grad1, grad2)\n",
        "\n",
        "print(\"All grads match!\")"
      ],
      "execution_count": 9,
      "outputs": [
        {
          "output_type": "stream",
          "name": "stdout",
          "text": [
            "All grads match!\n"
          ]
        }
      ]
    },
    {
      "cell_type": "code",
      "metadata": {
        "id": "8XfRGRhq6dOD",
        "colab": {
          "base_uri": "https://localhost:8080/"
        },
        "outputId": "d3d89ce4-8ea9-49cb-b640-64e54cbb05e0"
      },
      "source": [
        "# alternative: use rmsprop optimizer\n",
        "rmsprop_maml = torch_maml.GradientCheckpointMAML(\n",
        "    model, compute_loss, optimizer=torch_maml.IngraphRMSProp(learning_rate=1e-3, beta=0.9, epsilon=1e-5), \n",
        "    checkpoint_steps=5)\n",
        "\n",
        "updated_model, loss_history, _ = rmsprop_maml(inputs, loss_kwargs={'device':device},\n",
        "                                                max_grad_grad_norm=max_grad_grad_norm)\n",
        "final_loss = compute_loss(updated_model, (x_batch, y_batch), device=device)\n",
        "final_loss.backward()\n",
        "grads_efficient = [params.grad for params in model.parameters()]\n",
        "print(\"Loss RMSProp: %.4f\" % final_loss.item())"
      ],
      "execution_count": 10,
      "outputs": [
        {
          "output_type": "stream",
          "name": "stdout",
          "text": [
            "Loss RMSProp: 0.0224\n"
          ]
        }
      ]
    },
    {
      "cell_type": "markdown",
      "metadata": {
        "id": "t13US_Vn6dOF"
      },
      "source": [
        "### The real meta-learning: 100 steps and beyond"
      ]
    },
    {
      "cell_type": "code",
      "metadata": {
        "id": "gUk7JFIm6dOG"
      },
      "source": [
        "maml_steps = 100  # feel free to tweak (works with >500)\n",
        "inputs = [(x_batch, y_batch)] * maml_steps\n",
        "torch.cuda.empty_cache()"
      ],
      "execution_count": 11,
      "outputs": []
    },
    {
      "cell_type": "code",
      "metadata": {
        "id": "qx4yJPAJ6dOH",
        "colab": {
          "base_uri": "https://localhost:8080/",
          "height": 284
        },
        "outputId": "dc50f61f-09cb-41c4-fc18-03900f8abc94"
      },
      "source": [
        "updated_model, loss_history, _ = efficient_maml(inputs, loss_kwargs={'device':device},\n",
        "                                        max_grad_grad_norm=max_grad_grad_norm)\n",
        "final_loss = compute_loss(updated_model, (x_batch, y_batch), device=device)\n",
        "final_loss.backward()\n",
        "grads_efficient = [params.grad for params in model.parameters()]\n",
        "\n",
        "plt.plot(loss_history)\n",
        "print(\"Loss memory-efficient: %.4f\" % final_loss.item())"
      ],
      "execution_count": 12,
      "outputs": [
        {
          "output_type": "stream",
          "name": "stdout",
          "text": [
            "Loss memory-efficient: 0.0427\n"
          ]
        },
        {
          "output_type": "display_data",
          "data": {
            "image/png": "[encoded data removed]",
            "text/plain": [
              "<Figure size 432x288 with 1 Axes>"
            ]
          },
          "metadata": {
            "needs_background": "light"
          }
        }
      ]
    }
  ]
}